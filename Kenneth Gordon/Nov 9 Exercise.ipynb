{
 "cells": [
  {
   "cell_type": "markdown",
   "metadata": {},
   "source": [
    "# SQL Server Coding Exercise - Nov 9\n",
    "### Steps to complete exercise\n",
    "---\n",
    "1. Choose one tool ( SQL Server Management Studio (SSMS or Azure data Studio (ADS))\n",
    "1. Review the structure of the **ProductOrders** database\n",
    "1. Review code for understanding on the following SQL syntax\n",
    "    1. Mandatory Objects\n",
    "        1. CREATE FUNCTION\n",
    "        1. CREATE PROCEDURE\n",
    "        1. CREATE VIEW\n",
    "    1. Optional Clauses\n",
    "        1. UNION\n",
    "        1. OVER\n",
    "        1. WITH\n",
    "1. Think about what three different queries you can write that will across all three use all of the mandatory  clauses and at least one of the optional clauses\n",
    "1. Write SQL statements that answer the questions below:\n",
    "    1. Be sure to include the CREATE statement and the SQL query that shows the result of the question\n",
    "    1. write the SQL query\n",
    "#### _Remember: the goal is 5 queries **per student** with the room as a chance to collaborate as needed before engaging your instructor_"
   ]
  },
  {
   "cell_type": "markdown",
   "metadata": {},
   "source": [
    "### How many items are in the largest order?"
   ]
  },
  {
   "cell_type": "code",
   "execution_count": null,
   "metadata": {},
   "outputs": [],
   "source": [
    "create VIEW itm_qty_view as\n",
    "SELECT ItemID\n",
    "FROM Items\n",
    "\n",
    "select ItemID\n",
    "from itm_qty_view\n",
    "order by ItemID desc"
   ]
  },
  {
   "cell_type": "markdown",
   "metadata": {},
   "source": [
    "### How many Customers and distinct artists are sold in any given state?"
   ]
  },
  {
   "cell_type": "code",
   "execution_count": null,
   "metadata": {},
   "outputs": [],
   "source": [
    "alter view cust_art_view as\n",
    "select cm.CustID,od.OrderID, CustFirstName, CustLastName, CustState as States, Artist, Quantity\n",
    "from Customers as cm\n",
    "join Orders as odrs\n",
    "on cm.CustID = odrs.CustID\n",
    "join OrderDetails as od\n",
    "on odrs.OrderID = od.OrderID\n",
    "join Items as ii\n",
    "on od.Itemid = ii.ItemID\n",
    "\n",
    "select count(CustID) as totalcustomer, count(distinct Artist) as totalartist, count(CustID) + count(distinct Artist) as total, States\n",
    "from cust_art_view\n",
    "Group by States\n",
    "order by 3 desc"
   ]
  },
  {
   "cell_type": "markdown",
   "metadata": {},
   "source": [
    "### For a given Artist how many orders, units and distinct states  were sold?"
   ]
  },
  {
   "cell_type": "code",
   "execution_count": null,
   "metadata": {},
   "outputs": [],
   "source": [
    "alter view cust_art_view as\n",
    "select cm.CustID,od.OrderID, CustFirstName, CustLastName, CustState as States, Artist, Quantity\n",
    "from Customers as cm\n",
    "join Orders as odrs\n",
    "on cm.CustID = odrs.CustID\n",
    "join OrderDetails as od\n",
    "on odrs.OrderID = od.OrderID\n",
    "join Items as ii\n",
    "on od.Itemid = ii.ItemID\n",
    "select Artist, count(OrderID) as OrderCount, sum(quantity)as UnitsSOld, count (distinct States) as StatesSold\n",
    "from cust_art_view\n",
    "group by Artist\n",
    "order by 1 desc"
   ]
  },
  {
   "cell_type": "markdown",
   "metadata": {},
   "source": []
  },
  {
   "cell_type": "markdown",
   "metadata": {},
   "source": [
    "### What are the top ten artist by units sold?"
   ]
  },
  {
   "cell_type": "code",
   "execution_count": null,
   "metadata": {},
   "outputs": [],
   "source": [
    "alter view cust_art_view as\n",
    "select cm.CustID,od.OrderID, CustFirstName, CustLastName, CustState as States, Artist, Quantity\n",
    "from Customers as cm\n",
    "join Orders as odrs\n",
    "on cm.CustID = odrs.CustID\n",
    "join OrderDetails as od\n",
    "on odrs.OrderID = od.OrderID\n",
    "join Items as ii\n",
    "on od.Itemid = ii.ItemID\n",
    "select top 10 Artist, sum(quantity)as UnitsSold\n",
    "from cust_art_view\n",
    "group by Artist\n",
    "order by 1"
   ]
  },
  {
   "cell_type": "markdown",
   "metadata": {},
   "source": [
    "### What are the top ten artist by dollars ( UnitPrice * Qty) sold?"
   ]
  },
  {
   "cell_type": "code",
   "execution_count": 2,
   "metadata": {},
   "outputs": [],
   "source": [
    "alter view cust_art_view as\n",
    "select cm.CustID,od.OrderID, CustFirstName, CustLastName, CustState as States, Artist, Quantity, UnitPrice\n",
    "from Customers as cm\n",
    "join Orders as odrs\n",
    "on cm.CustID = odrs.CustID\n",
    "join OrderDetails as od\n",
    "on odrs.OrderID = od.OrderID\n",
    "join Items as ii\n",
    "on od.Itemid = ii.ItemID\n",
    "select top 10 Artist, sum(UnitPrice) as dollars\n",
    "from cust_art_view\n",
    "group by Artist\n",
    "order by 2 desc\n"
   ]
  }
 ],
 "metadata": {
  "kernelspec": {
   "display_name": "Python 3.11.0 64-bit",
   "language": "python",
   "name": "python3"
  },
  "language_info": {
   "codemirror_mode": {
    "name": "ipython",
    "version": 3
   },
   "file_extension": ".py",
   "mimetype": "text/x-python",
   "name": "python",
   "nbconvert_exporter": "python",
   "pygments_lexer": "ipython3",
   "version": "3.11.0"
  },
  "orig_nbformat": 4,
  "vscode": {
   "interpreter": {
    "hash": "5648690337fc90d2c32f0f39eda9ea2f9b92b07cf0eeea9ba7cc35fd3a44e645"
   }
  }
 },
 "nbformat": 4,
 "nbformat_minor": 2
}
