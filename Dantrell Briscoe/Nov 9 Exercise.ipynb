{
 "cells": [
  {
   "cell_type": "markdown",
   "metadata": {},
   "source": [
    "# SQL Server Coding Exercise - Nov 9\n",
    "### Steps to complete exercise\n",
    "---\n",
    "1. Choose one tool ( SQL Server Management Studio (SSMS or Azure data Studio (ADS))\n",
    "1. Review the structure of the **ProductOrders** database\n",
    "1. Review code for understanding on the following SQL syntax\n",
    "    1. Mandatory Objects\n",
    "        1. CREATE FUNCTION\n",
    "        1. CREATE PROCEDURE\n",
    "        1. CREATE VIEW\n",
    "    1. Optional Clauses\n",
    "        1. UNION\n",
    "        1. OVER\n",
    "        1. WITH\n",
    "1. Think about what three different queries you can write that will across all three use all of the mandatory  clauses and at least one of the optional clauses\n",
    "1. Write SQL statements that answer the questions below:\n",
    "    1. Be sure to include the CREATE statement and the SQL query that shows the result of the question\n",
    "    1. write the SQL query\n",
    "#### _Remember: the goal is 5 queries **per student** with the room as a chance to collaborate as needed before engaging your instructor_"
   ]
  },
  {
   "cell_type": "markdown",
   "metadata": {},
   "source": [
    "### How many items are in the largest order?"
   ]
  },
  {
   "cell_type": "code",
   "execution_count": null,
   "metadata": {
    "vscode": {
     "languageId": "sql"
    }
   },
   "outputs": [],
   "source": [
    "CREATE FUNCTION Largest_Order()\n",
    "RETURNS TABLE AS \n",
    "RETURN\n",
    "\t(SELECT TOP 1 ORDERID, \n",
    "\tSUM(QUANTITY) \n",
    "\tAS ORDERTOTAL\n",
    "\tFROM [dbo].[OrderDetails]\n",
    "\tGROUP BY ORDERID\n",
    "\tORDER BY ORDERTOTAL DESC)\n",
    ";\n",
    "GO\n",
    "SELECT *\n",
    "FROM [dbo].[Largest_Order]()"
   ]
  },
  {
   "cell_type": "markdown",
   "metadata": {},
   "source": [
    "### How many Customers and distinct artists are sold in any given state?"
   ]
  },
  {
   "cell_type": "code",
   "execution_count": null,
   "metadata": {
    "vscode": {
     "languageId": "sql"
    }
   },
   "outputs": [],
   "source": [
    "exec State_Concerts @Concerts = 'CA'\n",
    "exec State_Sales @customer_State ='CA'"
   ]
  },
  {
   "cell_type": "markdown",
   "metadata": {},
   "source": [
    "### For a given Artist how many orders, units and distinct states  were sold?"
   ]
  },
  {
   "cell_type": "code",
   "execution_count": null,
   "metadata": {},
   "outputs": [],
   "source": []
  },
  {
   "cell_type": "markdown",
   "metadata": {},
   "source": []
  },
  {
   "cell_type": "markdown",
   "metadata": {},
   "source": [
    "### What are the top ten artist by units sold?"
   ]
  },
  {
   "cell_type": "code",
   "execution_count": null,
   "metadata": {},
   "outputs": [],
   "source": []
  },
  {
   "cell_type": "markdown",
   "metadata": {},
   "source": [
    "### What are the top ten artist by dollars ( UnitPrice * Qty) sold?"
   ]
  },
  {
   "cell_type": "code",
   "execution_count": 2,
   "metadata": {},
   "outputs": [],
   "source": []
  }
 ],
 "metadata": {
  "kernelspec": {
   "display_name": "Python 3.10.8 64-bit (microsoft store)",
   "language": "python",
   "name": "python3"
  },
  "language_info": {
   "codemirror_mode": {
    "name": "ipython",
    "version": 3
   },
   "file_extension": ".py",
   "mimetype": "text/x-python",
   "name": "python",
   "nbconvert_exporter": "python",
   "pygments_lexer": "ipython3",
   "version": "3.10.8"
  },
  "orig_nbformat": 4,
  "vscode": {
   "interpreter": {
    "hash": "f18f35a74a11ea0e9fcb8041209ab304cff6922c827d7fe5c5cd94888844ace4"
   }
  }
 },
 "nbformat": 4,
 "nbformat_minor": 2
}
