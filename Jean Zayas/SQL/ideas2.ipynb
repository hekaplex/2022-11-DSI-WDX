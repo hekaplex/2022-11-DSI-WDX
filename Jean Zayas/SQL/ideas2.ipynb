{
 "cells": [
  {
   "attachments": {},
   "cell_type": "markdown",
   "metadata": {},
   "source": [
    "# Weird holiday ideas\n"
   ]
  },
  {
   "attachments": {},
   "cell_type": "markdown",
   "metadata": {},
   "source": [
    "The concept of generating a live traffic report of users in the island and try to study peak moments and why?\n"
   ]
  }
 ],
 "metadata": {
  "kernelspec": {
   "display_name": "Python 3",
   "language": "python",
   "name": "python3"
  },
  "language_info": {
   "name": "python",
   "version": "3.11.0 (main, Oct 24 2022, 18:26:48) [MSC v.1933 64 bit (AMD64)]"
  },
  "orig_nbformat": 4,
  "vscode": {
   "interpreter": {
    "hash": "be6ddd3a253f0a54f9857dfc9838028df9e5a3ef5ceef23fb937f67b3d1b5696"
   }
  }
 },
 "nbformat": 4,
 "nbformat_minor": 2
}
