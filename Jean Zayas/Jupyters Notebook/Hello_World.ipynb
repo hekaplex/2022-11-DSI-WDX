{
 "cells": [
  {
   "cell_type": "code",
   "execution_count": 1,
   "metadata": {},
   "outputs": [
    {
     "name": "stdout",
     "output_type": "stream",
     "text": [
      "Hello Curador\n"
     ]
    }
   ],
   "source": [
    "msg=\"Hello Curador\"\n",
    "print(msg)"
   ]
  },
  {
   "attachments": {},
   "cell_type": "markdown",
   "metadata": {},
   "source": [
    "## This is my First Jupyter's Notebook ##\n",
    "\n",
    "I am very excited to transition into Data Science. I've always had a thing for questioning everything,  and actually attempting or researching for the truth.\n",
    " I like knowing things about our history, cool facts, \n",
    "myths, lies, common social or cultural things. \n",
    "\n",
    "If dive headfirst into work, i love to be active mentally and physically. \n",
    "The fact that the world of Data opens the doors to facilitate me in answering all those question is \n",
    "amazing."
   ]
  },
  {
   "cell_type": "markdown",
   "metadata": {},
   "source": [
    "##"
   ]
  },
  {
   "cell_type": "markdown",
   "metadata": {},
   "source": []
  },
  {
   "cell_type": "markdown",
   "metadata": {},
   "source": []
  }
 ],
 "metadata": {
  "kernelspec": {
   "display_name": "Python 3",
   "language": "python",
   "name": "python3"
  },
  "language_info": {
   "codemirror_mode": {
    "name": "ipython",
    "version": 3
   },
   "file_extension": ".py",
   "mimetype": "text/x-python",
   "name": "python",
   "nbconvert_exporter": "python",
   "pygments_lexer": "ipython3",
   "version": "3.11.0 (main, Oct 24 2022, 18:26:48) [MSC v.1933 64 bit (AMD64)]"
  },
  "orig_nbformat": 4,
  "vscode": {
   "interpreter": {
    "hash": "be6ddd3a253f0a54f9857dfc9838028df9e5a3ef5ceef23fb937f67b3d1b5696"
   }
  }
 },
 "nbformat": 4,
 "nbformat_minor": 2
}
