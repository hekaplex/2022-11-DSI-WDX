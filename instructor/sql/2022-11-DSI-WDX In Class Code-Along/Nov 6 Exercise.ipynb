{
 "cells": [
  {
   "cell_type": "markdown",
   "metadata": {},
   "source": [
    "# SQL Server Coding Exercise - Nov 6\n",
    "### Steps to complete exercise\n",
    "---\n",
    "1. Choose one tool ( SQL Server Management Studio (SSMS or Azure data Studio (ADS))\n",
    "1. Review code for understanding on teh following SQL syntax\n",
    "    1. Mandatory Clauses\n",
    "        1. JOIN..ON\n",
    "        1. ORDER BY\n",
    "        1. GROUP BY\n",
    "        1. WHERE\n",
    "        1. HAVING\n",
    "    1. Optional Clauses\n",
    "        1. DISTINCT\n",
    "        1. IN\n",
    "        1. LIKE\n",
    "        1. TOP\n",
    "1. Think about what three different queries you can write that will across all three use all of the mandatory  clauses and at least one of the optional clauses\n",
    "1. Each answer will have three parts:\n",
    "    1. Write the business questions commented out in SSMS/in a .sql file in ADS or in a Markdown cell in a notebook in ADS\n",
    "    1. write the SQL query\n",
    "    1. include at least 3 rows of the results in comments in SSMS or save the results in the notebook in ADS\n",
    "#### _Remember: the goal is 3 queries **per student** with the room as a chance to collaborate as needed before engaging your instructor_"
   ]
  },
  {
   "cell_type": "markdown",
   "metadata": {},
   "source": []
  }
 ],
 "metadata": {
  "language_info": {
   "name": "python"
  },
  "orig_nbformat": 4
 },
 "nbformat": 4,
 "nbformat_minor": 2
}
